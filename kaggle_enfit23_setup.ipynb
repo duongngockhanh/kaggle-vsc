{
 "cells": [
  {
   "cell_type": "code",
   "execution_count": null,
   "metadata": {},
   "outputs": [],
   "source": [
    "import base64\n",
    "from kaggle_secrets import UserSecretsClient\n",
    "user_secrets = UserSecretsClient()\n",
    "\n",
    "kaggle_cfg = {}\n",
    "for name in ['enfit1_rsa', 'NGROK_TOKEN_1', 'ID_RSA_PUB', 'SSH_PASS']:\n",
    "    try:\n",
    "        kaggle_cfg[name] = user_secrets.get_secret(name)\n",
    "    except:\n",
    "        pass\n",
    "\n",
    "enfit1_rsa_val = kaggle_cfg.get(\"enfit1_rsa\", \"\")\n",
    "if enfit1_rsa_val != \"\":\n",
    "    enfit1_rsa_val = base64.b64decode(enfit1_rsa_val).decode('ascii')    \n",
    "ngrok_token_val = kaggle_cfg.get(\"NGROK_TOKEN_1\", \"\")\n",
    "id_rsa_pub      = kaggle_cfg.get(\"ID_RSA_PUB\", \"\")\n",
    "ssh_pass_val    = kaggle_cfg.get(\"NGROK_TOKEN_1\", \"12345\")"
   ]
  },
  {
   "cell_type": "code",
   "execution_count": null,
   "metadata": {},
   "outputs": [],
   "source": [
    "![ ! -d \"/kaggle/working/resyslab_utils\" ] && git clone https://github.com/dntai/resyslab_utils.git /kaggle/working/resyslab_utils\n",
    "![ -d \"/kaggle/working/resyslab_utils\" ] && cd /kaggle/working/resyslab_utils && git pull\n",
    "%run /kaggle/working/resyslab_utils/resyslab_utils/clouds/cloud_setup.py"
   ]
  },
  {
   "cell_type": "code",
   "execution_count": null,
   "metadata": {},
   "outputs": [],
   "source": [
    "start_ssh(id_rsa_pub=id_rsa_pub,\n",
    "          install_ssh=True, \n",
    "          config_ssh=True, \n",
    "          password=ssh_pass_val)"
   ]
  },
  {
   "cell_type": "code",
   "execution_count": null,
   "metadata": {},
   "outputs": [],
   "source": [
    "start_vscode()"
   ]
  },
  {
   "cell_type": "code",
   "execution_count": null,
   "metadata": {},
   "outputs": [],
   "source": [
    "start_ngrok([ngrok_token_val])"
   ]
  },
  {
   "cell_type": "code",
   "execution_count": null,
   "metadata": {},
   "outputs": [],
   "source": [
    "setup_config_github(enfit1_rsa_val, 'enfit1_rsa', 'enfit23')"
   ]
  }
 ],
 "metadata": {
  "language_info": {
   "name": "python"
  }
 },
 "nbformat": 4,
 "nbformat_minor": 2
}
